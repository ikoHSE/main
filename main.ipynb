{
 "cells": [
  {
   "cell_type": "code",
   "execution_count": 36,
   "metadata": {
    "collapsed": false
   },
   "outputs": [
    {
     "name": "stdout",
     "output_type": "stream",
     "text": [
      "Player Trus: 8♦ 7♠ K♥ K♣ A♠ K♦ Q♥ 8♣ 9♠ 7♥, Player Balbes: Q♣ A♣ 10♠ 7♣ 7♦ 9♦ 9♣ A♥ K♠ J♥, Player Bivaliy: 10♥ 8♠ 10♦ J♣ 9♥ J♦ J♠ 10♣ Q♠ 8♥, TALON: [30 22]\n",
      "Player Trus: 10♦ A♣ J♦ K♣ A♠ 9♥ A♥ K♠ A♦ 8♠, Player Balbes: K♥ J♥ Q♥ 7♠ 8♥ Q♣ 9♣ 7♦ 7♥ 9♠, Player Bivaliy: 10♥ 9♦ Q♠ J♠ 8♦ 10♣ J♣ K♦ Q♦ 7♣, TALON: [12  5]\n",
      "Player Trus: J♥ A♥ 8♦ 9♣ 10♠ 9♥ A♦ Q♥ Q♦ 10♥, Player Balbes: K♠ 7♣ 8♣ Q♠ J♣ K♥ A♠ J♠ Q♣ 9♦, Player Bivaliy: K♣ A♣ 8♥ 10♣ K♦ 8♠ 10♦ 7♦ 7♠ 7♥, TALON: [ 8 18]\n"
     ]
    }
   ],
   "source": [
    "# -*- coding: utf-8 -*-\n",
    "\n",
    "import numpy as np\n",
    "\n",
    "class Card:\n",
    "    def __init__(self, id, istrump=False):\n",
    "        self.suit = id % 4\n",
    "        self.rating = id / 4\n",
    "    def __str__(self):\n",
    "        val = ''\n",
    "        if self.rating == 0:\n",
    "            val = '7'\n",
    "        elif self.rating == 1:\n",
    "            val = '8'\n",
    "        elif self.rating == 2:\n",
    "            val = '9'\n",
    "        elif self.rating == 3:\n",
    "            val = '10'\n",
    "        elif self.rating == 4:\n",
    "            val = 'J'\n",
    "        elif self.rating == 5:\n",
    "            val = 'Q'\n",
    "        elif self.rating == 6:\n",
    "            val = 'K'\n",
    "        elif self.rating == 7:\n",
    "            val = 'A'\n",
    "        suit = 0\n",
    "        if self.suit == 0:\n",
    "            suit = '♠'\n",
    "        elif self.suit == 1:\n",
    "            suit = '♣'\n",
    "        elif self.suit == 2:\n",
    "            suit = '♦'\n",
    "        elif self.suit == 3:\n",
    "            suit = '♥'\n",
    "        return val + suit\n",
    "\n",
    "\n",
    "class Hand:\n",
    "    def __init__(self, hand):\n",
    "        self.deck = map(lambda x: Card(x), hand)\n",
    "\n",
    "    def __str__(self):\n",
    "        return ' '.join(map(str, self.deck))\n",
    "\n",
    "\n",
    "\n",
    "\n",
    "class Player:\n",
    "    deck = []\n",
    "    name = ''\n",
    "    id = 0\n",
    "    def __init__(self, name, id):\n",
    "        self.name = name\n",
    "        self.id = id\n",
    "\n",
    "    def updateDeck(self, deck):\n",
    "        self.deck = deck\n",
    "\n",
    "    def __str__(self):\n",
    "        return 'name=' + str(self.name)+ ' id=' +str(self.id)+' deck:'+str(self.deck)\n",
    "\n",
    "\n",
    "class Round:\n",
    "    typeOfRound = -1\n",
    "\n",
    "    def __init__(self, players):\n",
    "        self.players = players\n",
    "        self.allCards = np.arange(32) # creating a deck\n",
    "        np.random.shuffle(self.allCards)\n",
    "        xDecks = (Hand(self.allCards[:10]), Hand(self.allCards[10:20]), Hand(self.allCards[20:30]))\n",
    "        self.talon = self.allCards[30:]\n",
    "        for P, D in zip(self.players, xDecks):\n",
    "            P.updateDeck(D)\n",
    "\n",
    "    def __str__(self):\n",
    "        return 'Player {0}: {1}, Player {2}: {3}, Player {4}: {5}, TALON: {6}'.format(self.players[0].name, self.players[0].deck,\n",
    "                self.players[1].name, self.players[1].deck, self.players[2].name, self.players[2].deck, self.talon)\n",
    "\n",
    "\n",
    "\n",
    "class Game:\n",
    "    talon = [] # p_r_i_k_y_p -_-\n",
    "    players = []\n",
    "    def __init__(self, name1 = \"Trus\", name2 = \"Balbes\", name3 = \"Bivaliy\"):\n",
    "        self.players.append(Player(name1, 0))\n",
    "        self.players.append(Player(name2, 1))\n",
    "        self.players.append(Player(name3, 2))\n",
    "\n",
    "        for i in range(3):\n",
    "            r = Round(self.players)\n",
    "            print(r)\n",
    "\n",
    "\n",
    "game = Game()"
   ]
  },
  {
   "cell_type": "code",
   "execution_count": 17,
   "metadata": {
    "collapsed": false
   },
   "outputs": [],
   "source": [
    "p = Player('1', 1, [1, 12, 3])"
   ]
  },
  {
   "cell_type": "code",
   "execution_count": 18,
   "metadata": {
    "collapsed": false
   },
   "outputs": [
    {
     "name": "stdout",
     "output_type": "stream",
     "text": [
      "name=1 id=1 deck:[1, 12, 3]\n"
     ]
    }
   ],
   "source": [
    "print(p)"
   ]
  },
  {
   "cell_type": "code",
   "execution_count": 24,
   "metadata": {
    "collapsed": false
   },
   "outputs": [],
   "source": [
    "b = Board()"
   ]
  },
  {
   "cell_type": "code",
   "execution_count": 27,
   "metadata": {
    "collapsed": false
   },
   "outputs": [
    {
     "data": {
      "text/plain": [
       "array([23,  3, 27, 20, 18, 12, 30,  0, 26, 13, 24,  7,  5, 14,  9, 11, 31,\n",
       "        6,  1, 22, 25, 17,  8, 15, 10,  4, 19, 16, 21, 28,  2, 29])"
      ]
     },
     "execution_count": 27,
     "metadata": {},
     "output_type": "execute_result"
    }
   ],
   "source": [
    "l = np.arange(32)\n",
    "np.random.shuffle(l)\n",
    "l"
   ]
  },
  {
   "cell_type": "code",
   "execution_count": 34,
   "metadata": {
    "collapsed": false
   },
   "outputs": [
    {
     "name": "stdout",
     "output_type": "stream",
     "text": [
      "♣\n"
     ]
    }
   ],
   "source": [
    "print('♣')"
   ]
  },
  {
   "cell_type": "code",
   "execution_count": null,
   "metadata": {
    "collapsed": true
   },
   "outputs": [],
   "source": []
  }
 ],
 "metadata": {
  "anaconda-cloud": {},
  "kernelspec": {
   "display_name": "Python [conda root]",
   "language": "python",
   "name": "conda-root-py"
  },
  "language_info": {
   "codemirror_mode": {
    "name": "ipython",
    "version": 2
   },
   "file_extension": ".py",
   "mimetype": "text/x-python",
   "name": "python",
   "nbconvert_exporter": "python",
   "pygments_lexer": "ipython2",
   "version": "2.7.12"
  }
 },
 "nbformat": 4,
 "nbformat_minor": 1
}
