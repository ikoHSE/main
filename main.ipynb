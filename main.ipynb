{
 "cells": [
  {
   "cell_type": "code",
   "execution_count": 54,
   "metadata": {
    "collapsed": false
   },
   "outputs": [
    {
     "name": "stdout",
     "output_type": "stream",
     "text": [
      "Player Trus: 10♠ J♠ Q♠ 9♣ Q♣ K♣ 8♦ 10♦ J♦ 7♥, \n",
      "Player Balbes: 8♠ 9♠ A♠ Q♦ K♦ A♦ 9♥ 10♥ J♥ K♥, \n",
      "Player Bivaliy: 7♠ K♠ 7♣ 8♣ 10♣ A♣ 7♦ 8♥ Q♥ A♥, TALON: J♣ 9♦\n",
      "\n",
      "Player Trus: 7♠ 8♠ J♠ Q♠ A♣ 7♦ Q♦ 7♥ Q♥ K♥, \n",
      "Player Balbes: 10♠ A♠ 10♣ 8♦ 9♦ K♦ A♦ 8♥ 9♥ 10♥, \n",
      "Player Bivaliy: 9♠ K♠ 7♣ 9♣ J♣ Q♣ K♣ J♦ J♥ A♥, TALON: 8♣ 10♦\n",
      "\n",
      "Player Trus: Q♠ A♠ J♣ K♣ A♣ J♦ 7♥ 8♥ J♥ Q♥, \n",
      "Player Balbes: 9♠ 7♣ 9♣ 10♣ 8♦ 10♦ Q♦ K♦ K♥ A♥, \n",
      "Player Bivaliy: 7♠ 10♠ J♠ K♠ 8♣ Q♣ 9♦ A♦ 9♥ 10♥, TALON: 8♠ 7♦\n",
      "\n",
      "Player Trus: 7♠ 8♣ J♣ Q♣ K♣ A♣ J♦ 8♥ J♥ K♥, \n",
      "Player Balbes: 8♠ 9♠ J♠ 9♣ 10♣ 8♦ Q♦ A♦ 10♥ A♥, \n",
      "Player Bivaliy: 10♠ K♠ A♠ 7♣ 7♦ 9♦ 10♦ 7♥ 9♥ Q♥, TALON: Q♠ K♦\n",
      "\n",
      "Player Trus: 7♠ Q♠ K♠ A♠ A♣ 9♦ Q♦ A♦ 9♥ K♥, \n",
      "Player Balbes: 8♠ 9♠ 7♣ 9♣ Q♣ 7♦ J♦ K♦ 8♥ Q♥, \n",
      "Player Bivaliy: 10♠ J♠ 8♣ J♣ K♣ 8♦ 10♦ 7♥ 10♥ A♥, TALON: 10♣ J♥\n",
      "\n",
      "Player Trus: 9♠ Q♠ 8♣ 9♣ 8♦ 10♦ Q♦ 8♥ K♥ A♥, \n",
      "Player Balbes: 8♠ 10♠ J♠ A♠ 7♣ 7♦ 7♥ 9♥ 10♥ Q♥, \n",
      "Player Bivaliy: 7♠ K♠ J♣ K♣ A♣ 9♦ J♦ K♦ A♦ J♥, TALON: 10♣ Q♣\n",
      "\n",
      "Player Trus: 8♠ K♠ 7♣ J♣ A♣ 10♦ A♦ 8♥ K♥ A♥, \n",
      "Player Balbes: 9♠ Q♠ 8♣ 9♣ 10♣ Q♣ 7♦ Q♦ 7♥ 10♥, \n",
      "Player Bivaliy: 7♠ 10♠ J♠ K♣ 8♦ J♦ K♦ 9♥ J♥ Q♥, TALON: A♠ 9♦\n",
      "\n",
      "Player Trus: 7♠ 8♠ J♠ 7♣ 9♣ Q♣ A♣ 10♦ 7♥ J♥, \n",
      "Player Balbes: 9♠ K♠ A♠ 10♣ 8♦ Q♦ 8♥ 9♥ Q♥ K♥, \n",
      "Player Bivaliy: 10♠ Q♠ 8♣ J♣ K♣ 7♦ 9♦ A♦ 10♥ A♥, TALON: J♦ K♦\n",
      "\n",
      "Player Trus: 7♠ 10♠ 7♣ 8♣ 10♣ Q♣ J♦ K♦ 10♥ K♥, \n",
      "Player Balbes: Q♠ J♣ K♣ A♣ 7♦ 8♦ 9♦ A♦ Q♥ A♥, \n",
      "Player Bivaliy: 9♠ J♠ K♠ A♠ 9♣ 10♦ Q♦ 8♥ 9♥ J♥, TALON: 8♠ 7♥\n",
      "\n",
      "Player Trus: 7♠ 9♠ K♠ 7♣ J♣ A♣ K♦ J♥ K♥ A♥, \n",
      "Player Balbes: 8♠ J♠ A♠ 8♣ 9♣ K♣ 7♦ 8♦ 9♦ 8♥, \n",
      "Player Bivaliy: 10♠ Q♠ 10♣ Q♣ J♦ Q♦ A♦ 7♥ 9♥ Q♥, TALON: 10♦ 10♥\n",
      "\n",
      "Player Trus: 8♠ Q♠ K♠ 8♣ J♣ A♣ 7♦ 7♥ 8♥ J♥, \n",
      "Player Balbes: 7♠ J♠ A♠ 10♣ K♣ 8♦ 10♦ A♦ 9♥ 10♥, \n",
      "Player Bivaliy: 9♠ 7♣ 9♣ Q♣ 9♦ Q♦ K♦ Q♥ K♥ A♥, TALON: 10♠ J♦\n",
      "\n",
      "Player Trus: 9♠ 10♠ J♠ A♠ 7♣ 8♣ 7♦ A♦ J♥ Q♥, \n",
      "Player Balbes: Q♠ K♠ 10♣ J♣ Q♣ K♣ 10♦ J♦ 8♥ K♥, \n",
      "Player Bivaliy: 7♠ 9♣ A♣ 8♦ 9♦ Q♦ K♦ 7♥ 9♥ 10♥, TALON: 8♠ A♥\n",
      "\n",
      "Player Trus: 8♠ K♠ 8♣ 10♣ K♣ Q♦ A♦ 7♥ 8♥ J♥, \n",
      "Player Balbes: 10♠ Q♠ 7♣ 9♣ Q♣ 7♦ J♦ 9♥ 10♥ A♥, \n",
      "Player Bivaliy: 7♠ 9♠ J♠ A♣ 8♦ 9♦ 10♦ K♦ Q♥ K♥, TALON: A♠ J♣\n",
      "\n",
      "Player Trus: 7♠ 9♠ A♠ J♣ Q♣ K♣ A♣ 10♦ 7♥ 8♥, \n",
      "Player Balbes: 8♠ 10♠ J♠ Q♠ K♠ 7♣ 7♦ 9♦ J♦ 9♥, \n",
      "Player Bivaliy: 8♣ 9♣ 10♣ Q♦ K♦ A♦ 10♥ J♥ Q♥ K♥, TALON: 8♦ A♥\n",
      "\n",
      "Player Trus: 9♠ J♣ 8♦ J♦ A♦ 8♥ 9♥ Q♥ K♥ A♥, \n",
      "Player Balbes: J♠ Q♠ 7♣ 9♣ 10♣ Q♣ K♣ A♣ Q♦ 7♥, \n",
      "Player Bivaliy: 7♠ 8♠ 10♠ A♠ 8♣ 7♦ 9♦ 10♦ K♦ J♥, TALON: K♠ 10♥\n",
      "\n",
      "Player Trus: 8♠ 9♠ J♣ K♣ 9♦ J♦ Q♦ A♦ 8♥ J♥, \n",
      "Player Balbes: 7♠ J♠ Q♠ A♠ 7♣ 8♣ 8♦ 10♦ 9♥ 10♥, \n",
      "Player Bivaliy: 10♠ K♠ 9♣ 10♣ Q♣ A♣ 7♦ K♦ 7♥ K♥, TALON: Q♥ A♥\n",
      "\n",
      "Player Trus: Q♠ K♠ A♠ K♣ 8♦ 10♦ Q♦ A♦ 10♥ K♥, \n",
      "Player Balbes: 7♠ 10♠ 7♣ 8♣ Q♣ K♦ 8♥ 9♥ J♥ A♥, \n",
      "Player Bivaliy: 8♠ 9♠ J♠ 9♣ 10♣ 7♦ 9♦ J♦ 7♥ Q♥, TALON: J♣ A♣\n",
      "\n",
      "Player Trus: 7♠ 8♠ K♠ 7♣ 8♣ 10♣ 9♦ 7♥ Q♥ K♥, \n",
      "Player Balbes: 9♠ 10♠ J♠ Q♠ A♠ A♣ 8♦ Q♦ K♦ 10♥, \n",
      "Player Bivaliy: 9♣ Q♣ K♣ 10♦ J♦ A♦ 8♥ 9♥ J♥ A♥, TALON: J♣ 7♦\n",
      "\n",
      "Player Trus: 9♠ Q♠ 9♣ 10♣ Q♣ K♣ 7♦ Q♦ 8♥ 10♥, \n",
      "Player Balbes: 7♠ K♠ A♠ 7♣ 8♣ J♣ 9♦ K♦ Q♥ K♥, \n",
      "Player Bivaliy: 8♠ 10♠ A♣ 8♦ 10♦ J♦ A♦ 7♥ J♥ A♥, TALON: J♠ 9♥\n",
      "\n",
      "Player Trus: 7♠ 8♠ 9♠ J♠ 8♣ 9♦ 10♦ 9♥ 10♥ A♥, \n",
      "Player Balbes: 10♠ A♠ J♣ K♣ A♣ 7♦ K♦ A♦ 7♥ Q♥, \n",
      "Player Bivaliy: Q♠ K♠ 7♣ 9♣ Q♣ 8♦ J♦ Q♦ J♥ K♥, TALON: 10♣ 8♥\n",
      "\n"
     ]
    }
   ],
   "source": [
    "# -*- coding: utf-8 -*-\n",
    "\n",
    "import numpy as np\n",
    "\n",
    "class Card:\n",
    "    def __init__(self, id, istrump=False):\n",
    "        self.suit = id % 4\n",
    "        self.rating = id / 4\n",
    "    def __lt__(self, other):\n",
    "        return (self.suit + 1) * 100 + self.rating < (other.suit + 1) * 100 + other.rating\n",
    "    \n",
    "    def __str__(self):\n",
    "        val = ''\n",
    "        if self.rating == 0:\n",
    "            val = '7'\n",
    "        elif self.rating == 1:\n",
    "            val = '8'\n",
    "        elif self.rating == 2:\n",
    "            val = '9'\n",
    "        elif self.rating == 3:\n",
    "            val = '10'\n",
    "        elif self.rating == 4:\n",
    "            val = 'J'\n",
    "        elif self.rating == 5:\n",
    "            val = 'Q'\n",
    "        elif self.rating == 6:\n",
    "            val = 'K'\n",
    "        elif self.rating == 7:\n",
    "            val = 'A'\n",
    "        suit = 0\n",
    "        if self.suit == 0:\n",
    "            suit = '♠'\n",
    "        elif self.suit == 1:\n",
    "            suit = '♣'\n",
    "        elif self.suit == 2:\n",
    "            suit = '♦'\n",
    "        elif self.suit == 3:\n",
    "            suit = '♥'\n",
    "        return val + suit\n",
    "\n",
    "\n",
    "class Hand:\n",
    "    def __init__(self, hand):\n",
    "        self.deck = map(lambda x: Card(x), hand)\n",
    "\n",
    "    def __str__(self):\n",
    "        return ' '.join(map(str, sorted(self.deck)))\n",
    "\n",
    "\n",
    "\n",
    "\n",
    "class Player:\n",
    "    deck = []\n",
    "    name = ''\n",
    "    id = 0\n",
    "    def __init__(self, name, id):\n",
    "        self.name = name\n",
    "        self.id = id\n",
    "        self.bullet = 0\n",
    "        self.mountain = 0\n",
    "        self.whist = 0\n",
    "\n",
    "    def updateDeck(self, deck):\n",
    "        self.deck = deck\n",
    "\n",
    "    def __str__(self):\n",
    "        return 'name=' + str(self.name)+ ' id=' +str(self.id)+' deck:'+str(self.deck)\n",
    "\n",
    "\n",
    "class Round:\n",
    "    typeOfRound = -1\n",
    "    \n",
    "    def __init__(self, players, manager_id):\n",
    "        self.players = players\n",
    "        self.manager_id = manager_id\n",
    "        self.allCards = np.arange(32) # creating a deck\n",
    "        np.random.shuffle(self.allCards)\n",
    "        xDecks = (Hand(self.allCards[:10]), Hand(self.allCards[10:20]), Hand(self.allCards[20:30]))\n",
    "        self.talon = Hand(self.allCards[30:])\n",
    "        for P, D in zip(self.players, xDecks):\n",
    "            P.updateDeck(D)\n",
    "\n",
    "    def __str__(self):\n",
    "        return 'Player {0}: {1}, \\nPlayer {2}: {3}, \\nPlayer {4}: {5}, TALON: {6}'.format(self.players[0].name, self.players[0].deck,\n",
    "                self.players[1].name, self.players[1].deck, self.players[2].name, self.players[2].deck, self.talon)\n",
    "\n",
    "\n",
    "\n",
    "\n",
    "    \n",
    "        \n",
    "\n",
    "class Game:\n",
    "    players = []\n",
    "    maxBullet = 20\n",
    "    def __init__(self, name1 = \"Trus\", name2 = \"Balbes\", name3 = \"Bivaliy\"):\n",
    "        self.players.append(Player(name1, 0))\n",
    "        self.players.append(Player(name2, 1))\n",
    "        self.players.append(Player(name3, 2))\n",
    "        self.manager = 0\n",
    "        while any(filter(lambda x: x.bullet < self.maxBullet, self.players)):\n",
    "            r = Round(self.players, self.manager)\n",
    "            print(r)\n",
    "            print\n",
    "            for i in self.players:\n",
    "                i.bullet += 1\n",
    "            self.manager = (self.manager + 1) % len(self.players)\n",
    "    \n",
    "\n",
    "\n",
    "game = Game()"
   ]
  },
  {
   "cell_type": "code",
   "execution_count": null,
   "metadata": {
    "collapsed": false
   },
   "outputs": [],
   "source": []
  },
  {
   "cell_type": "code",
   "execution_count": null,
   "metadata": {
    "collapsed": false
   },
   "outputs": [],
   "source": []
  },
  {
   "cell_type": "code",
   "execution_count": null,
   "metadata": {
    "collapsed": false
   },
   "outputs": [],
   "source": []
  },
  {
   "cell_type": "code",
   "execution_count": 38,
   "metadata": {
    "collapsed": false
   },
   "outputs": [
    {
     "data": {
      "text/plain": [
       "array([ 6,  2, 19, 26, 20, 24,  1,  8, 13,  3,  7, 28, 22,  5, 16, 25, 27,\n",
       "       31, 11,  4,  9, 15, 18, 29, 14, 17, 10, 21,  0, 23, 30, 12])"
      ]
     },
     "execution_count": 38,
     "metadata": {},
     "output_type": "execute_result"
    }
   ],
   "source": [
    "l = np.arange(32)\n",
    "np.random.shuffle(l)\n",
    "l"
   ]
  },
  {
   "cell_type": "code",
   "execution_count": 39,
   "metadata": {
    "collapsed": false
   },
   "outputs": [
    {
     "name": "stdout",
     "output_type": "stream",
     "text": [
      "♣\n"
     ]
    }
   ],
   "source": [
    "print('♣')"
   ]
  },
  {
   "cell_type": "code",
   "execution_count": null,
   "metadata": {
    "collapsed": true
   },
   "outputs": [],
   "source": []
  },
  {
   "cell_type": "code",
   "execution_count": null,
   "metadata": {
    "collapsed": true
   },
   "outputs": [],
   "source": []
  }
 ],
 "metadata": {
  "anaconda-cloud": {},
  "kernelspec": {
   "display_name": "Python [conda root]",
   "language": "python",
   "name": "conda-root-py"
  },
  "language_info": {
   "codemirror_mode": {
    "name": "ipython",
    "version": 2
   },
   "file_extension": ".py",
   "mimetype": "text/x-python",
   "name": "python",
   "nbconvert_exporter": "python",
   "pygments_lexer": "ipython2",
   "version": "2.7.12"
  }
 },
 "nbformat": 4,
 "nbformat_minor": 1
}
